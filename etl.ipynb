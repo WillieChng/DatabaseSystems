{
 "cells": [
  {
   "cell_type": "markdown",
   "metadata": {},
   "source": [
    "The python libraries and env files used"
   ]
  },
  {
   "cell_type": "code",
   "execution_count": 3,
   "metadata": {},
   "outputs": [
    {
     "data": {
      "text/plain": [
       "True"
      ]
     },
     "execution_count": 3,
     "metadata": {},
     "output_type": "execute_result"
    }
   ],
   "source": [
    "from pymongo import MongoClient\n",
    "from pymongo.errors import ConnectionFailure\n",
    "from dotenv import load_dotenv\n",
    "import os\n",
    "import mlcroissant as mlc\n",
    "import pandas as pd\n",
    "\n",
    "load_dotenv()"
   ]
  },
  {
   "cell_type": "markdown",
   "metadata": {},
   "source": [
    "Function for connecting to both local mongdb server and mongodb atlas (cloud)"
   ]
  },
  {
   "cell_type": "code",
   "execution_count": 4,
   "metadata": {},
   "outputs": [],
   "source": [
    "def mongoConnect():\n",
    "    local = \"mongodb://localhost:27017/\"\n",
    "    atlas = os.getenv(\"ATLAS\")\n",
    "\n",
    "    try:\n",
    "        local_client = MongoClient(local)\n",
    "        local_client.admin.command(\"ping\")\n",
    "        print(\"Localhost Connected Successfully\")\n",
    "    except ConnectionFailure as e:\n",
    "        print(f\"Localhost Connection Failed: {e}\")\n",
    "\n",
    "    try:\n",
    "        atlas_client = MongoClient(atlas)\n",
    "        atlas_client.admin.command(\"ping\")\n",
    "        print(\"Atlas Cloud Connected Successfully\")\n",
    "    except ConnectionFailure as e:\n",
    "        print(f\"Localhost Connection Failed: {e}\")"
   ]
  },
  {
   "cell_type": "markdown",
   "metadata": {},
   "source": [
    "First Step of ETL: EXTRACTION\n",
    "dataset is extracted using mlcroissant that loads the data into memory"
   ]
  },
  {
   "cell_type": "code",
   "execution_count": 16,
   "metadata": {},
   "outputs": [],
   "source": [
    "def extract():\n",
    "    croissant_dataset = mlc.Dataset('https://www.kaggle.com/datasets/dnkumars/cybersecurity-intrusion-detection-dataset/croissant/download')\n",
    "    record_sets = croissant_dataset.metadata.record_sets\n",
    "    dataset = pd.DataFrame(croissant_dataset.records(record_set=record_sets[0].uuid))\n",
    "    dataset.columns = dataset.columns.str.split(\"/\").str[-1]\n",
    "    print(f\"Extracted {len(dataset)} records\")\n",
    "    # print(dataset.head(1))\n",
    "    return dataset"
   ]
  },
  {
   "cell_type": "code",
   "execution_count": 14,
   "metadata": {},
   "outputs": [],
   "source": [
    "def transform(dataset):\n",
    "    def format_change(row):\n",
    "        def safe_decode(val):\n",
    "            return val.decode('utf-8') if isinstance(val, bytes) else val\n",
    "        return {\n",
    "            \"session_id\": safe_decode(row[\"session_id\"]),\n",
    "            \"network_activity\": {\n",
    "                \"protocol\": safe_decode(row[\"protocol_type\"]),\n",
    "                \"packet_size\": row[\"network_packet_size\"],\n",
    "                \"duration\": row[\"session_duration\"]\n",
    "            },\n",
    "            \"authentication\": {\n",
    "                \"login_attempts\": row[\"login_attempts\"],\n",
    "                \"failed_logins\": row[\"failed_logins\"],\n",
    "                \"unusual_time_access\": row[\"unusual_time_access\"]\n",
    "            },\n",
    "            \"security_metrics\": {\n",
    "                \"ip_reputation_score\": row[\"ip_reputation_score\"],\n",
    "                \"encryption_used\": safe_decode(row[\"encryption_used\"]),\n",
    "                \"attack_detected\": row[\"attack_detected\"]\n",
    "            },\n",
    "            \"browser\": safe_decode(row[\"browser_type\"])\n",
    "        }\n",
    "    \n",
    "    transformed = dataset.apply(format_change, axis=1).tolist()\n",
    "    print(f\"Transformed {len(transformed)} records into document format\")\n",
    "    print(\"Sample transformed document:\", transformed[0])\n",
    "    return transformed"
   ]
  },
  {
   "cell_type": "code",
   "execution_count": 17,
   "metadata": {},
   "outputs": [
    {
     "name": "stdout",
     "output_type": "stream",
     "text": [
      "Localhost Connected Successfully\n",
      "Atlas Cloud Connected Successfully\n"
     ]
    },
    {
     "name": "stderr",
     "output_type": "stream",
     "text": [
      "WARNING:absl:WARNING: The JSON-LD `@context` is not standard. Refer to the official @context (e.g., from the example datasets in https://github.com/mlcommons/croissant/tree/main/datasets/1.0). The different keys are: {'rai', 'examples'}\n",
      "WARNING:absl:Found the following 1 warning(s) during the validation:\n",
      "  -  [Metadata(Cybersecurity 🪪 Intrusion 🦠 Detection Dataset)] Property \"http://mlcommons.org/croissant/citeAs\" is recommended, but does not exist.\n"
     ]
    },
    {
     "name": "stdout",
     "output_type": "stream",
     "text": [
      "Extracted 9537 records\n",
      "Transformed 9537 records into document format\n",
      "Sample transformed document: {'session_id': 'SID_00001', 'network_activity': {'protocol': 'TCP', 'packet_size': 599, 'duration': 492.9832634426563}, 'authentication': {'login_attempts': 4, 'failed_logins': 1, 'unusual_time_access': 0}, 'security_metrics': {'ip_reputation_score': 0.606818080396889, 'encryption_used': 'DES', 'attack_detected': 1}, 'browser': 'Edge'}\n"
     ]
    }
   ],
   "source": [
    "mongoConnect()\n",
    "dataset = transform(extract())\n"
   ]
  },
  {
   "cell_type": "markdown",
   "metadata": {},
   "source": []
  }
 ],
 "metadata": {
  "kernelspec": {
   "display_name": "base",
   "language": "python",
   "name": "python3"
  },
  "language_info": {
   "codemirror_mode": {
    "name": "ipython",
    "version": 3
   },
   "file_extension": ".py",
   "mimetype": "text/x-python",
   "name": "python",
   "nbconvert_exporter": "python",
   "pygments_lexer": "ipython3",
   "version": "3.12.3"
  }
 },
 "nbformat": 4,
 "nbformat_minor": 2
}

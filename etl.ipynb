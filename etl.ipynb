{
 "cells": [
  {
   "cell_type": "markdown",
   "metadata": {},
   "source": [
    "The python libraries and env files used"
   ]
  },
  {
   "cell_type": "code",
   "execution_count": 10,
   "metadata": {},
   "outputs": [],
   "source": [
    "from pymongo import MongoClient\n",
    "from pymongo.errors import ConnectionFailure\n",
    "from dotenv import load_dotenv\n",
    "import os\n",
    "import mlcroissant as mlc\n",
    "import pandas as pd\n",
    "\n",
    "load_dotenv()\n",
    "\n",
    "local_client = MongoClient(\"mongodb://localhost:27017/\")\n",
    "atlas_client = MongoClient(os.getenv(\"ATLAS\"))"
   ]
  },
  {
   "cell_type": "markdown",
   "metadata": {},
   "source": [
    "Function for connecting to both local mongdb server and mongodb atlas (cloud)"
   ]
  },
  {
   "cell_type": "code",
   "execution_count": 9,
   "metadata": {},
   "outputs": [],
   "source": [
    "def mongoConnect():\n",
    "    try:\n",
    "        local_client.admin.command(\"ping\")\n",
    "        print(\"Localhost Connected Successfully\")\n",
    "    except ConnectionFailure as e:\n",
    "        print(f\"Localhost Connection Failed: {e}\")\n",
    "\n",
    "    try:\n",
    "        atlas_client.admin.command(\"ping\")\n",
    "        print(\"Atlas Cloud Connected Successfully\")\n",
    "    except ConnectionFailure as e:\n",
    "        print(f\"Localhost Connection Failed: {e}\")"
   ]
  },
  {
   "cell_type": "markdown",
   "metadata": {},
   "source": [
    "First Step of ETL: EXTRACTION\n",
    "dataset is extracted using mlcroissant that loads the data into memory"
   ]
  },
  {
   "cell_type": "code",
   "execution_count": 11,
   "metadata": {},
   "outputs": [],
   "source": [
    "def extract():\n",
    "    croissant_dataset = mlc.Dataset('https://www.kaggle.com/datasets/dnkumars/cybersecurity-intrusion-detection-dataset/croissant/download')\n",
    "    record_sets = croissant_dataset.metadata.record_sets\n",
    "    dataset = pd.DataFrame(croissant_dataset.records(record_set=record_sets[0].uuid))\n",
    "    dataset.columns = dataset.columns.str.split(\"/\").str[-1]\n",
    "    print(f\"Extracted {len(dataset)} records\")\n",
    "    # print(dataset.head(1))\n",
    "    return dataset"
   ]
  },
  {
   "cell_type": "code",
   "execution_count": 12,
   "metadata": {},
   "outputs": [],
   "source": [
    "def transform(dataset):\n",
    "    def format_change(row):\n",
    "        def safe_decode(val):\n",
    "            return val.decode('utf-8') if isinstance(val, bytes) else val\n",
    "        return {\n",
    "            \"session_id\": safe_decode(row[\"session_id\"]),\n",
    "            \"network_activity\": {\n",
    "                \"protocol\": safe_decode(row[\"protocol_type\"]),\n",
    "                \"packet_size\": row[\"network_packet_size\"],\n",
    "                \"duration\": row[\"session_duration\"]\n",
    "            },\n",
    "            \"authentication\": {\n",
    "                \"login_attempts\": row[\"login_attempts\"],\n",
    "                \"failed_logins\": row[\"failed_logins\"],\n",
    "                \"unusual_time_access\": row[\"unusual_time_access\"]\n",
    "            },\n",
    "            \"security_metrics\": {\n",
    "                \"ip_reputation_score\": row[\"ip_reputation_score\"],\n",
    "                \"encryption_used\": safe_decode(row[\"encryption_used\"]),\n",
    "                \"attack_detected\": row[\"attack_detected\"]\n",
    "            },\n",
    "            \"browser\": safe_decode(row[\"browser_type\"])\n",
    "        }\n",
    "    \n",
    "    transformed = dataset.apply(format_change, axis=1).tolist()\n",
    "    # print(f\"Transformed {len(transformed)} records into document format\")\n",
    "    # print(\"Sample transformed document:\", transformed[0])\n",
    "    return transformed"
   ]
  },
  {
   "cell_type": "code",
   "execution_count": 18,
   "metadata": {},
   "outputs": [],
   "source": [
    "def load(dataset):\n",
    "    database = \"cyber_detection\"\n",
    "    collection = \"intrusion_logs\"\n",
    "\n",
    "    #local\n",
    "    local_db = local_client[database]\n",
    "    if collection not in local_db.list_collection_names():\n",
    "        print(\"Collection not found....Creating \\\"intrusion_logs\\\" collection\")\n",
    "        local_db.create_collection(collection)\n",
    "\n",
    "    local_cl = local_db[collection]\n",
    "    if local_cl.count_documents({}) == 0:\n",
    "        print(f\"{collection} is empty. Inserting data....\")\n",
    "        try:\n",
    "            local_cl.insert_many(dataset)\n",
    "            print(\"Collection inserted successfully\")\n",
    "        except Exception as e:\n",
    "            print(f\"Error: {e}\")\n",
    "    else:\n",
    "        print(\"There is already data in collection\")\n",
    "    \n",
    "    #cloud\n",
    "    cloud_db = atlas_client[database]\n",
    "    if collection not in cloud_db.list_collection_names():\n",
    "        print(\"Collection not found....Creating \\\"intrusion_logs\\\" collection\")\n",
    "        cloud_db.create_collection(collection)\n",
    "    \n",
    "    cloud_cl = cloud_db[collection]\n",
    "    if list(local_cl.find({})) != list(cloud_cl.find({})):\n",
    "        cloud_cl.delete_many({})\n",
    "        cloud_cl.insert_many(list(local_cl.find({})))\n",
    "    else:\n",
    "        print(\"Local & Cloud already in sync.\")\n"
   ]
  },
  {
   "cell_type": "code",
   "execution_count": 22,
   "metadata": {},
   "outputs": [
    {
     "name": "stdout",
     "output_type": "stream",
     "text": [
      "Localhost Connected Successfully\n",
      "Atlas Cloud Connected Successfully\n"
     ]
    },
    {
     "name": "stderr",
     "output_type": "stream",
     "text": [
      "WARNING:absl:WARNING: The JSON-LD `@context` is not standard. Refer to the official @context (e.g., from the example datasets in https://github.com/mlcommons/croissant/tree/main/datasets/1.0). The different keys are: {'rai', 'examples'}\n",
      "WARNING:absl:Found the following 1 warning(s) during the validation:\n",
      "  -  [Metadata(Cybersecurity 🪪 Intrusion 🦠 Detection Dataset)] Property \"http://mlcommons.org/croissant/citeAs\" is recommended, but does not exist.\n"
     ]
    },
    {
     "name": "stdout",
     "output_type": "stream",
     "text": [
      "Extracted 9537 records\n",
      "Collection not found....Creating \"intrusion_logs\" collection\n",
      "intrusion_logs is empty. Inserting data....\n",
      "Collection inserted successfully\n",
      "Collection not found....Creating \"intrusion_logs\" collection\n"
     ]
    }
   ],
   "source": [
    "mongoConnect()\n",
    "dataset = transform(extract())\n",
    "load(dataset)"
   ]
  },
  {
   "cell_type": "markdown",
   "metadata": {},
   "source": []
  }
 ],
 "metadata": {
  "kernelspec": {
   "display_name": "base",
   "language": "python",
   "name": "python3"
  },
  "language_info": {
   "codemirror_mode": {
    "name": "ipython",
    "version": 3
   },
   "file_extension": ".py",
   "mimetype": "text/x-python",
   "name": "python",
   "nbconvert_exporter": "python",
   "pygments_lexer": "ipython3",
   "version": "3.12.3"
  }
 },
 "nbformat": 4,
 "nbformat_minor": 2
}
